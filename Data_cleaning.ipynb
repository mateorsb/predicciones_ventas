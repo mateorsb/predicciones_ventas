{
  "nbformat": 4,
  "nbformat_minor": 0,
  "metadata": {
    "colab": {
      "name": "Data_cleaning.ipynb",
      "provenance": []
    },
    "kernelspec": {
      "name": "python3",
      "display_name": "Python 3"
    },
    "language_info": {
      "name": "python"
    }
  },
  "cells": [
    {
      "cell_type": "code",
      "execution_count": 1,
      "metadata": {
        "id": "aHenCjNhiGx4"
      },
      "outputs": [],
      "source": [
        "#Limpieza de datos "
      ]
    },
    {
      "cell_type": "code",
      "source": [
        "from google.colab import drive\n",
        "drive.mount('/content/drive')\n",
        "\n",
        "import pandas as pd\n",
        "filename = '/content/drive/My Drive/CODING DOJO/Códigos/Semana 2/Pandas_para_manipulacion_datos/sales_predictions.csv'\n",
        "data = pd.read_csv(filename, sep=\",\")\n",
        "data.head() #imprimir cabecera\n",
        "data.info()"
      ],
      "metadata": {
        "id": "EVUyETwLiMNw"
      },
      "execution_count": null,
      "outputs": []
    },
    {
      "cell_type": "code",
      "source": [
        "data.count()/len(data)*100    #Analizar el porcentaje de datos que tenemos en las variables"
      ],
      "metadata": {
        "id": "cfesHA0JikWl"
      },
      "execution_count": null,
      "outputs": []
    },
    {
      "cell_type": "code",
      "source": [
        "data.isna().sum()/len(data)*100   #Porcentaje de Nulos "
      ],
      "metadata": {
        "id": "EPsuPMYTimSl"
      },
      "execution_count": null,
      "outputs": []
    },
    {
      "cell_type": "code",
      "source": [
        "data.describe()"
      ],
      "metadata": {
        "id": "3xxTq1tOoKQs"
      },
      "execution_count": null,
      "outputs": []
    },
    {
      "cell_type": "code",
      "source": [
        "data1=data.dropna(subset=['Outlet_Size']) #Eliminar filas NaN para la columna Outlet_Size\n",
        "data1\n",
        "data1.info()"
      ],
      "metadata": {
        "id": "lkf8RhchvICh"
      },
      "execution_count": null,
      "outputs": []
    },
    {
      "cell_type": "code",
      "source": [
        "data1=data1.fillna(data1.median()['Item_Weight'])   #Rellenar los datos nulos con la mediana la columna Item_Weight \n",
        "data1.info()\n",
        "data1.describe()"
      ],
      "metadata": {
        "id": "5sEdlIgkxYo6"
      },
      "execution_count": null,
      "outputs": []
    }
  ]
}